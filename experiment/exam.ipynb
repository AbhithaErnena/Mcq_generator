{
 "cells": [
  {
   "cell_type": "code",
   "execution_count": 341,
   "metadata": {},
   "outputs": [],
   "source": [
    "import pandas as pd\n",
    "import numpy as np\n",
    "import json\n",
    "from langchain.llms.openai import OpenAI\n",
    "from langchain.chat_models import ChatOpenAI\n",
    "from langchain.prompts import PromptTemplate\n",
    "from langchain.chains import LLMChain\n",
    "from langchain.chains import SequentialChain\n",
    "from langchain.callbacks import get_openai_callback\n",
    "from dotenv import load_dotenv\n",
    "import PyPDF2\n",
    "import os"
   ]
  },
  {
   "cell_type": "code",
   "execution_count": 342,
   "metadata": {},
   "outputs": [],
   "source": [
    "load_dotenv()\n",
    "open_api_key=os.environ.get('OPENAI_API_KEY')\n",
    "open_api_key='sk-proj-WRpvpdHvkooHFU8zCNXtT3BlbkFJsxuxYAQaxjINuDsOPS0J'"
   ]
  },
  {
   "cell_type": "code",
   "execution_count": 343,
   "metadata": {},
   "outputs": [],
   "source": [
    "llm=ChatOpenAI(openai_api_key=open_api_key,model='gpt-3.5-turbo',temperature=0.7)"
   ]
  },
  {
   "cell_type": "code",
   "execution_count": 344,
   "metadata": {},
   "outputs": [
    {
     "data": {
      "text/plain": [
       "ChatOpenAI(client=<openai.resources.chat.completions.Completions object at 0x0000021A0467A5F0>, async_client=<openai.resources.chat.completions.AsyncCompletions object at 0x0000021A046792D0>, openai_api_key='sk-proj-WRpvpdHvkooHFU8zCNXtT3BlbkFJsxuxYAQaxjINuDsOPS0J', openai_proxy='')"
      ]
     },
     "execution_count": 344,
     "metadata": {},
     "output_type": "execute_result"
    }
   ],
   "source": [
    "llm"
   ]
  },
  {
   "cell_type": "code",
   "execution_count": 345,
   "metadata": {},
   "outputs": [],
   "source": [
    "with open(r'C:\\Users\\HP\\OneDrive\\Desktop\\desktop\\generativeAI\\openai_mcq_gen\\Response.json') as f:\n",
    "    Response_JSON=json.load(f)"
   ]
  },
  {
   "cell_type": "code",
   "execution_count": 346,
   "metadata": {},
   "outputs": [
    {
     "name": "stdout",
     "output_type": "stream",
     "text": [
      "{'1': {'no': '1', 'mcq': 'multiple choice questions', 'options': {'a': 'choice here', 'b': 'choice here', 'c': 'choice here', 'd': 'choice here'}, 'correct': 'correct answer'}, '2': {'no': '2', 'mcq': 'multiple choice questions', 'options': {'a': 'choice here', 'b': 'choice here', 'c': 'choice here', 'd': 'choice here'}, 'correct': 'correct answer'}, '3': {'no': '3', 'mcq': 'multiple choice questions', 'options': {'a': 'choice here', 'b': 'choice here', 'c': 'choice here', 'd': 'choice here'}, 'correct': 'correct answer'}}\n"
     ]
    }
   ],
   "source": [
    "print(Response_JSON)"
   ]
  },
  {
   "cell_type": "code",
   "execution_count": 347,
   "metadata": {},
   "outputs": [],
   "source": [
    "TEMPLATE=\"\"\"\n",
    "Text:{text}\n",
    "You are an expert MCQ maker. Given the above text, it is your job to \\\n",
    "create a quiz  of {number} multiple choice questions for {subject} students in {tone} tone. \n",
    "Make sure the questions are not repeated and check all the questions to be conforming the text as well.\n",
    "Make sure to format your response like  RESPONSE_JSON below  and use it as a guide. \\\n",
    "Ensure to make {number} MCQs\n",
    "### RESPONSE_JSON\n",
    "{RESPONSE_JSON}\n",
    "\n",
    "\"\"\""
   ]
  },
  {
   "cell_type": "code",
   "execution_count": 348,
   "metadata": {},
   "outputs": [],
   "source": [
    "quiz_generation_prompt=PromptTemplate(\n",
    "    input_variables=[\"text\",\"number\",\"subject\",\"tone\",\"RESPONSE_JSON\"],\n",
    "    template=TEMPLATE\n",
    ")"
   ]
  },
  {
   "cell_type": "code",
   "execution_count": 349,
   "metadata": {},
   "outputs": [],
   "source": [
    "quiz_chain=LLMChain(llm=llm,prompt=quiz_generation_prompt,output_key=\"quiz\",verbose=True)"
   ]
  },
  {
   "cell_type": "code",
   "execution_count": 350,
   "metadata": {},
   "outputs": [],
   "source": [
    "TEMPLATE2=\"\"\"\n",
    "You are an expert english grammarian and writer. Given a Multiple Choice Quiz for {subject} students.\\\n",
    "You need to evaluate the complexity of the question and give a complete analysis of the quiz. Only use at max 50 words for complexity analysis. \n",
    "if the quiz is not at per with the cognitive and analytical abilities of the students,\\\n",
    "update the quiz questions which needs to be changed and change the tone such that it perfectly fits the student abilities\n",
    "Quiz_MCQs:\n",
    "{quiz}\n",
    "\n",
    "Check from an expert English Writer of the above quiz:\n",
    "\"\"\""
   ]
  },
  {
   "cell_type": "code",
   "execution_count": 351,
   "metadata": {},
   "outputs": [],
   "source": [
    "quiz_evaluation_prompt=PromptTemplate(input_variables=[\"subject\", \"quiz\"], template=TEMPLATE2)"
   ]
  },
  {
   "cell_type": "code",
   "execution_count": 352,
   "metadata": {},
   "outputs": [],
   "source": [
    "review_chain=LLMChain(llm=llm,prompt=quiz_evaluation_prompt,output_key=\"review\",verbose=True)"
   ]
  },
  {
   "cell_type": "code",
   "execution_count": 353,
   "metadata": {},
   "outputs": [],
   "source": [
    "generate_evaluate_chain=SequentialChain(chains=[quiz_chain, review_chain], input_variables=[\"text\", \"number\", \"subject\", \"tone\", \"RESPONSE_JSON\"],output_variables=[\"quiz\", \"review\"], verbose=True,)"
   ]
  },
  {
   "cell_type": "code",
   "execution_count": 354,
   "metadata": {},
   "outputs": [],
   "source": [
    "with open(r'C:\\Users\\HP\\OneDrive\\Desktop\\desktop\\generativeAI\\openai_mcq_gen\\data.txt') as file:\n",
    "    TEXT=file.read()"
   ]
  },
  {
   "cell_type": "code",
   "execution_count": 355,
   "metadata": {},
   "outputs": [
    {
     "name": "stdout",
     "output_type": "stream",
     "text": [
      "Photosynthesis, the plantâ€™s magical cooking, unfolds in tiny kitchens called chloroplasts. These mini-factories, wrapped in a double layer, hold a green chef called chlorophyll. Inside, there are flat sacs called thylakoids, forming stacks named grana in a clear space called stroma.Chlorophyll, the chefâ€™s assistant, loves catching red and blue light, giving plants their green color. This kitchen duo transforms air and water into yummy carbohydrates, and as a bonus, they serve up oxygen. Itâ€™s like a dance â€“ sunlight, colors, and plant kitchens working together to make lifeâ€™s essential recipe, the enchanting process of photosynthesis.\n"
     ]
    }
   ],
   "source": [
    "print(TEXT)"
   ]
  },
  {
   "cell_type": "code",
   "execution_count": 356,
   "metadata": {},
   "outputs": [],
   "source": [
    "Text=TEXT\n",
    "NUMBER=5\n",
    "SUBJECT='Biology'\n",
    "TONE='Simple'\n",
    "RESPONSE_JSON=Response_JSON"
   ]
  },
  {
   "cell_type": "code",
   "execution_count": 357,
   "metadata": {},
   "outputs": [
    {
     "data": {
      "text/plain": [
       "{'1': {'no': '1',\n",
       "  'mcq': 'multiple choice questions',\n",
       "  'options': {'a': 'choice here',\n",
       "   'b': 'choice here',\n",
       "   'c': 'choice here',\n",
       "   'd': 'choice here'},\n",
       "  'correct': 'correct answer'},\n",
       " '2': {'no': '2',\n",
       "  'mcq': 'multiple choice questions',\n",
       "  'options': {'a': 'choice here',\n",
       "   'b': 'choice here',\n",
       "   'c': 'choice here',\n",
       "   'd': 'choice here'},\n",
       "  'correct': 'correct answer'},\n",
       " '3': {'no': '3',\n",
       "  'mcq': 'multiple choice questions',\n",
       "  'options': {'a': 'choice here',\n",
       "   'b': 'choice here',\n",
       "   'c': 'choice here',\n",
       "   'd': 'choice here'},\n",
       "  'correct': 'correct answer'}}"
      ]
     },
     "execution_count": 357,
     "metadata": {},
     "output_type": "execute_result"
    }
   ],
   "source": [
    "Response_JSON"
   ]
  },
  {
   "cell_type": "code",
   "execution_count": 358,
   "metadata": {},
   "outputs": [
    {
     "name": "stdout",
     "output_type": "stream",
     "text": [
      "\n",
      "\n",
      "\u001b[1m> Entering new SequentialChain chain...\u001b[0m\n",
      "\n",
      "\n",
      "\u001b[1m> Entering new LLMChain chain...\u001b[0m\n",
      "Prompt after formatting:\n",
      "\u001b[32;1m\u001b[1;3m\n",
      "Text:Photosynthesis, the plantâ€™s magical cooking, unfolds in tiny kitchens called chloroplasts. These mini-factories, wrapped in a double layer, hold a green chef called chlorophyll. Inside, there are flat sacs called thylakoids, forming stacks named grana in a clear space called stroma.Chlorophyll, the chefâ€™s assistant, loves catching red and blue light, giving plants their green color. This kitchen duo transforms air and water into yummy carbohydrates, and as a bonus, they serve up oxygen. Itâ€™s like a dance â€“ sunlight, colors, and plant kitchens working together to make lifeâ€™s essential recipe, the enchanting process of photosynthesis.\n",
      "You are an expert MCQ maker. Given the above text, it is your job to create a quiz  of 5 multiple choice questions for Biology students in Simple tone. \n",
      "Make sure the questions are not repeated and check all the questions to be conforming the text as well.\n",
      "Make sure to format your response like  RESPONSE_JSON below  and use it as a guide. Ensure to make 5 MCQs\n",
      "### RESPONSE_JSON\n",
      "{\"1\": {\"no\": \"1\", \"mcq\": \"multiple choice questions\", \"options\": {\"a\": \"choice here\", \"b\": \"choice here\", \"c\": \"choice here\", \"d\": \"choice here\"}, \"correct\": \"correct answer\"}, \"2\": {\"no\": \"2\", \"mcq\": \"multiple choice questions\", \"options\": {\"a\": \"choice here\", \"b\": \"choice here\", \"c\": \"choice here\", \"d\": \"choice here\"}, \"correct\": \"correct answer\"}, \"3\": {\"no\": \"3\", \"mcq\": \"multiple choice questions\", \"options\": {\"a\": \"choice here\", \"b\": \"choice here\", \"c\": \"choice here\", \"d\": \"choice here\"}, \"correct\": \"correct answer\"}}\n",
      "\n",
      "\u001b[0m\n",
      "\n",
      "\u001b[1m> Finished chain.\u001b[0m\n",
      "\n",
      "\n",
      "\u001b[1m> Entering new LLMChain chain...\u001b[0m\n",
      "Prompt after formatting:\n",
      "\u001b[32;1m\u001b[1;3m\n",
      "You are an expert english grammarian and writer. Given a Multiple Choice Quiz for Biology students.You need to evaluate the complexity of the question and give a complete analysis of the quiz. Only use at max 50 words for complexity analysis. \n",
      "if the quiz is not at per with the cognitive and analytical abilities of the students,update the quiz questions which needs to be changed and change the tone such that it perfectly fits the student abilities\n",
      "Quiz_MCQs:\n",
      "\n",
      "{\n",
      "\"1\": {\"no\": \"1\", \"mcq\": \"What is the name of the tiny kitchens where photosynthesis takes place in plants?\", \"options\": {\"a\": \"Mitochondria\", \"b\": \"Chloroplasts\", \"c\": \"Nucleus\", \"d\": \"Endoplasmic Reticulum\"}, \"correct\": \"b\"},\n",
      "\"2\": {\"no\": \"2\", \"mcq\": \"What is the name of the green chef inside the chloroplasts?\", \"options\": {\"a\": \"Carotenoid\", \"b\": \"Chlorophyll\", \"c\": \"Xanthophyll\", \"d\": \"Phycobilin\"}, \"correct\": \"b\"},\n",
      "\"3\": {\"no\": \"3\", \"mcq\": \"What is the name of the flat sacs inside the chloroplasts where photosynthesis occurs?\", \"options\": {\"a\": \"Thylakoids\", \"b\": \"Stroma\", \"c\": \"Grana\", \"d\": \"Chlorophyll\"}, \"correct\": \"a\"},\n",
      "\"4\": {\"no\": \"4\", \"mcq\": \"What is the main function of chlorophyll in photosynthesis?\", \"options\": {\"a\": \"Absorb red and blue light\", \"b\": \"Produce oxygen\", \"c\": \"Store energy\", \"d\": \"Break down carbohydrates\"}, \"correct\": \"a\"},\n",
      "\"5\": {\"no\": \"5\", \"mcq\": \"What are the end products of photosynthesis?\", \"options\": {\"a\": \"Carbon dioxide and water\", \"b\": \"Oxygen and glucose\", \"c\": \"Nitrogen and hydrogen\", \"d\": \"Methane and ATP\"}, \"correct\": \"b\"}\n",
      "}\n",
      "\n",
      "Check from an expert English Writer of the above quiz:\n",
      "\u001b[0m\n",
      "\n",
      "\u001b[1m> Finished chain.\u001b[0m\n",
      "\n",
      "\u001b[1m> Finished chain.\u001b[0m\n"
     ]
    }
   ],
   "source": [
    "with  get_openai_callback() as cb:\n",
    "    response=generate_evaluate_chain(\n",
    "        {\n",
    "\n",
    "        \"text\": TEXT,\n",
    "        \"number\": NUMBER,\n",
    "        \"subject\": SUBJECT,\n",
    "        \"tone\": TONE,\n",
    "        \"RESPONSE_JSON\": json.dumps(RESPONSE_JSON)\n",
    "\n",
    "        }\n",
    "    )"
   ]
  },
  {
   "cell_type": "code",
   "execution_count": 359,
   "metadata": {},
   "outputs": [
    {
     "name": "stdout",
     "output_type": "stream",
     "text": [
      "Total Tokens:1293\n",
      "Prompt Tokens:888\n",
      "Completion Tokens:405\n",
      "Total Cost:0.002142\n"
     ]
    }
   ],
   "source": [
    "print(f\"Total Tokens:{cb.total_tokens}\")\n",
    "print(f\"Prompt Tokens:{cb.prompt_tokens}\")\n",
    "print(f\"Completion Tokens:{cb.completion_tokens}\")\n",
    "print(f\"Total Cost:{cb.total_cost}\")"
   ]
  },
  {
   "cell_type": "code",
   "execution_count": 360,
   "metadata": {},
   "outputs": [
    {
     "data": {
      "text/plain": [
       "{'text': 'Photosynthesis, the plantâ€™s magical cooking, unfolds in tiny kitchens called chloroplasts. These mini-factories, wrapped in a double layer, hold a green chef called chlorophyll. Inside, there are flat sacs called thylakoids, forming stacks named grana in a clear space called stroma.Chlorophyll, the chefâ€™s assistant, loves catching red and blue light, giving plants their green color. This kitchen duo transforms air and water into yummy carbohydrates, and as a bonus, they serve up oxygen. Itâ€™s like a dance â€“ sunlight, colors, and plant kitchens working together to make lifeâ€™s essential recipe, the enchanting process of photosynthesis.',\n",
       " 'number': 5,\n",
       " 'subject': 'Biology',\n",
       " 'tone': 'Simple',\n",
       " 'RESPONSE_JSON': '{\"1\": {\"no\": \"1\", \"mcq\": \"multiple choice questions\", \"options\": {\"a\": \"choice here\", \"b\": \"choice here\", \"c\": \"choice here\", \"d\": \"choice here\"}, \"correct\": \"correct answer\"}, \"2\": {\"no\": \"2\", \"mcq\": \"multiple choice questions\", \"options\": {\"a\": \"choice here\", \"b\": \"choice here\", \"c\": \"choice here\", \"d\": \"choice here\"}, \"correct\": \"correct answer\"}, \"3\": {\"no\": \"3\", \"mcq\": \"multiple choice questions\", \"options\": {\"a\": \"choice here\", \"b\": \"choice here\", \"c\": \"choice here\", \"d\": \"choice here\"}, \"correct\": \"correct answer\"}}',\n",
       " 'quiz': '\\n{\\n\"1\": {\"no\": \"1\", \"mcq\": \"What is the name of the tiny kitchens where photosynthesis takes place in plants?\", \"options\": {\"a\": \"Mitochondria\", \"b\": \"Chloroplasts\", \"c\": \"Nucleus\", \"d\": \"Endoplasmic Reticulum\"}, \"correct\": \"b\"},\\n\"2\": {\"no\": \"2\", \"mcq\": \"What is the name of the green chef inside the chloroplasts?\", \"options\": {\"a\": \"Carotenoid\", \"b\": \"Chlorophyll\", \"c\": \"Xanthophyll\", \"d\": \"Phycobilin\"}, \"correct\": \"b\"},\\n\"3\": {\"no\": \"3\", \"mcq\": \"What is the name of the flat sacs inside the chloroplasts where photosynthesis occurs?\", \"options\": {\"a\": \"Thylakoids\", \"b\": \"Stroma\", \"c\": \"Grana\", \"d\": \"Chlorophyll\"}, \"correct\": \"a\"},\\n\"4\": {\"no\": \"4\", \"mcq\": \"What is the main function of chlorophyll in photosynthesis?\", \"options\": {\"a\": \"Absorb red and blue light\", \"b\": \"Produce oxygen\", \"c\": \"Store energy\", \"d\": \"Break down carbohydrates\"}, \"correct\": \"a\"},\\n\"5\": {\"no\": \"5\", \"mcq\": \"What are the end products of photosynthesis?\", \"options\": {\"a\": \"Carbon dioxide and water\", \"b\": \"Oxygen and glucose\", \"c\": \"Nitrogen and hydrogen\", \"d\": \"Methane and ATP\"}, \"correct\": \"b\"}\\n}',\n",
       " 'review': 'The complexity of the quiz questions is appropriate for biology students, testing their knowledge of photosynthesis and chloroplasts. The questions are clear and relevant, requiring basic understanding of the topic. No changes needed.'}"
      ]
     },
     "execution_count": 360,
     "metadata": {},
     "output_type": "execute_result"
    }
   ],
   "source": [
    "response"
   ]
  },
  {
   "cell_type": "code",
   "execution_count": 362,
   "metadata": {},
   "outputs": [
    {
     "name": "stdout",
     "output_type": "stream",
     "text": [
      "{'1': {'no': '1', 'mcq': 'What is the name of the tiny kitchens where photosynthesis takes place in plants?', 'options': {'a': 'Mitochondria', 'b': 'Chloroplasts', 'c': 'Nucleus', 'd': 'Endoplasmic Reticulum'}, 'correct': 'b'}, '2': {'no': '2', 'mcq': 'What is the name of the green chef inside the chloroplasts?', 'options': {'a': 'Carotenoid', 'b': 'Chlorophyll', 'c': 'Xanthophyll', 'd': 'Phycobilin'}, 'correct': 'b'}, '3': {'no': '3', 'mcq': 'What is the name of the flat sacs inside the chloroplasts where photosynthesis occurs?', 'options': {'a': 'Thylakoids', 'b': 'Stroma', 'c': 'Grana', 'd': 'Chlorophyll'}, 'correct': 'a'}, '4': {'no': '4', 'mcq': 'What is the main function of chlorophyll in photosynthesis?', 'options': {'a': 'Absorb red and blue light', 'b': 'Produce oxygen', 'c': 'Store energy', 'd': 'Break down carbohydrates'}, 'correct': 'a'}, '5': {'no': '5', 'mcq': 'What are the end products of photosynthesis?', 'options': {'a': 'Carbon dioxide and water', 'b': 'Oxygen and glucose', 'c': 'Nitrogen and hydrogen', 'd': 'Methane and ATP'}, 'correct': 'b'}}\n"
     ]
    }
   ],
   "source": [
    "quiz=response.get(\"quiz\")\n",
    "quiz=json.loads(quiz)\n",
    "print(quiz)"
   ]
  },
  {
   "cell_type": "code",
   "execution_count": 364,
   "metadata": {},
   "outputs": [],
   "source": [
    "quiz_table_data=[]\n",
    "for key,value in quiz.items():\n",
    "    mcq=value['mcq']\n",
    "    options='|'.join(\n",
    "        [\n",
    "            f'{option}:{option_value}'\n",
    "            for option,option_value in value['options'].items()\n",
    "        ]\n",
    "    )\n",
    "    correct=value['correct']\n",
    "    quiz_table_data.append({'MCQ':mcq,'Choices':options,'Correct':correct})"
   ]
  },
  {
   "cell_type": "code",
   "execution_count": 365,
   "metadata": {},
   "outputs": [
    {
     "data": {
      "text/plain": [
       "[{'MCQ': 'What is the name of the tiny kitchens where photosynthesis takes place in plants?',\n",
       "  'Choices': 'a:Mitochondria|b:Chloroplasts|c:Nucleus|d:Endoplasmic Reticulum',\n",
       "  'Correct': 'b'},\n",
       " {'MCQ': 'What is the name of the green chef inside the chloroplasts?',\n",
       "  'Choices': 'a:Carotenoid|b:Chlorophyll|c:Xanthophyll|d:Phycobilin',\n",
       "  'Correct': 'b'},\n",
       " {'MCQ': 'What is the name of the flat sacs inside the chloroplasts where photosynthesis occurs?',\n",
       "  'Choices': 'a:Thylakoids|b:Stroma|c:Grana|d:Chlorophyll',\n",
       "  'Correct': 'a'},\n",
       " {'MCQ': 'What is the main function of chlorophyll in photosynthesis?',\n",
       "  'Choices': 'a:Absorb red and blue light|b:Produce oxygen|c:Store energy|d:Break down carbohydrates',\n",
       "  'Correct': 'a'},\n",
       " {'MCQ': 'What are the end products of photosynthesis?',\n",
       "  'Choices': 'a:Carbon dioxide and water|b:Oxygen and glucose|c:Nitrogen and hydrogen|d:Methane and ATP',\n",
       "  'Correct': 'b'}]"
      ]
     },
     "execution_count": 365,
     "metadata": {},
     "output_type": "execute_result"
    }
   ],
   "source": [
    "quiz_table_data"
   ]
  },
  {
   "cell_type": "code",
   "execution_count": 366,
   "metadata": {},
   "outputs": [],
   "source": [
    "df=pd.DataFrame(quiz_table_data)"
   ]
  },
  {
   "cell_type": "code",
   "execution_count": 374,
   "metadata": {},
   "outputs": [],
   "source": [
    "df.to_csv('mcq_bits.csv',index=False)"
   ]
  }
 ],
 "metadata": {
  "kernelspec": {
   "display_name": "Python 3",
   "language": "python",
   "name": "python3"
  },
  "language_info": {
   "codemirror_mode": {
    "name": "ipython",
    "version": 3
   },
   "file_extension": ".py",
   "mimetype": "text/x-python",
   "name": "python",
   "nbconvert_exporter": "python",
   "pygments_lexer": "ipython3",
   "version": "3.10.11"
  }
 },
 "nbformat": 4,
 "nbformat_minor": 2
}
